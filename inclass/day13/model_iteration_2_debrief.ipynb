{
 "cells": [
  {
   "cell_type": "markdown",
   "metadata": {},
   "source": [
    "## Warmup Project Model Iteration 2 Debrief\n",
    "\n",
    "Here, I will summarize the common questions and areas of improvement that I saw in the warmup project model iteration 2 notebooks.\n",
    "\n",
    "Topics include:\n",
    "* Limitations of sklearn.feature_selection.SelectKBest\n",
    "* Best practices for writing about and documenting your models\n",
    "* Monotonic transformations to features\n",
    "* Tradeoffs of fitting separate models\n",
    "* Interpreting your Kaggle score"
   ]
  },
  {
   "cell_type": "markdown",
   "metadata": {},
   "source": [
    "### Limitations of SelectKBest\n",
    "\n",
    "Many of you utilized the suggestions in the dataquest.io tutorial for improving your model.  One of the suggestions that was given in that writeup was to do feature selection in order to remove irrelevant features.  This in itself is not a bad idea, however, the particular method that was used in the tutorial had a number of problems that we need to discuss.\n",
    "\n",
    "For starters, let's revisit what was one in the dataquest.io tutorial to downselect to several informative features.  The next few cells perform the following high-level steps:\n",
    "1.  Load the titanic training data\n",
    "2.  Fill NaN's in the Embarked column with the column mode\n",
    "3.  Fill NaN's in the Age column with the column mean\n",
    "4.  Drop the Cabin column (there are too many missing values)\n",
    "5.  Add dummy variables for both Sex and Embarked\n",
    "6.  Add a column that indicates the title of the passenger\n",
    "7.  Add a column for the family size of the passenger"
   ]
  },
  {
   "cell_type": "code",
   "execution_count": 189,
   "metadata": {
    "collapsed": false
   },
   "outputs": [
    {
     "data": {
      "text/html": [
       "<div>\n",
       "<table border=\"1\" class=\"dataframe\">\n",
       "  <thead>\n",
       "    <tr style=\"text-align: right;\">\n",
       "      <th></th>\n",
       "      <th>PassengerId</th>\n",
       "      <th>Survived</th>\n",
       "      <th>Pclass</th>\n",
       "      <th>Name</th>\n",
       "      <th>Sex</th>\n",
       "      <th>Age</th>\n",
       "      <th>SibSp</th>\n",
       "      <th>Parch</th>\n",
       "      <th>Ticket</th>\n",
       "      <th>Fare</th>\n",
       "      <th>Cabin</th>\n",
       "      <th>Embarked</th>\n",
       "    </tr>\n",
       "  </thead>\n",
       "  <tbody>\n",
       "    <tr>\n",
       "      <th>0</th>\n",
       "      <td>1</td>\n",
       "      <td>0</td>\n",
       "      <td>3</td>\n",
       "      <td>Braund, Mr. Owen Harris</td>\n",
       "      <td>male</td>\n",
       "      <td>22</td>\n",
       "      <td>1</td>\n",
       "      <td>0</td>\n",
       "      <td>A/5 21171</td>\n",
       "      <td>7.2500</td>\n",
       "      <td>NaN</td>\n",
       "      <td>S</td>\n",
       "    </tr>\n",
       "    <tr>\n",
       "      <th>1</th>\n",
       "      <td>2</td>\n",
       "      <td>1</td>\n",
       "      <td>1</td>\n",
       "      <td>Cumings, Mrs. John Bradley (Florence Briggs Th...</td>\n",
       "      <td>female</td>\n",
       "      <td>38</td>\n",
       "      <td>1</td>\n",
       "      <td>0</td>\n",
       "      <td>PC 17599</td>\n",
       "      <td>71.2833</td>\n",
       "      <td>C85</td>\n",
       "      <td>C</td>\n",
       "    </tr>\n",
       "    <tr>\n",
       "      <th>2</th>\n",
       "      <td>3</td>\n",
       "      <td>1</td>\n",
       "      <td>3</td>\n",
       "      <td>Heikkinen, Miss. Laina</td>\n",
       "      <td>female</td>\n",
       "      <td>26</td>\n",
       "      <td>0</td>\n",
       "      <td>0</td>\n",
       "      <td>STON/O2. 3101282</td>\n",
       "      <td>7.9250</td>\n",
       "      <td>NaN</td>\n",
       "      <td>S</td>\n",
       "    </tr>\n",
       "    <tr>\n",
       "      <th>3</th>\n",
       "      <td>4</td>\n",
       "      <td>1</td>\n",
       "      <td>1</td>\n",
       "      <td>Futrelle, Mrs. Jacques Heath (Lily May Peel)</td>\n",
       "      <td>female</td>\n",
       "      <td>35</td>\n",
       "      <td>1</td>\n",
       "      <td>0</td>\n",
       "      <td>113803</td>\n",
       "      <td>53.1000</td>\n",
       "      <td>C123</td>\n",
       "      <td>S</td>\n",
       "    </tr>\n",
       "    <tr>\n",
       "      <th>4</th>\n",
       "      <td>5</td>\n",
       "      <td>0</td>\n",
       "      <td>3</td>\n",
       "      <td>Allen, Mr. William Henry</td>\n",
       "      <td>male</td>\n",
       "      <td>35</td>\n",
       "      <td>0</td>\n",
       "      <td>0</td>\n",
       "      <td>373450</td>\n",
       "      <td>8.0500</td>\n",
       "      <td>NaN</td>\n",
       "      <td>S</td>\n",
       "    </tr>\n",
       "  </tbody>\n",
       "</table>\n",
       "</div>"
      ],
      "text/plain": [
       "   PassengerId  Survived  Pclass  \\\n",
       "0            1         0       3   \n",
       "1            2         1       1   \n",
       "2            3         1       3   \n",
       "3            4         1       1   \n",
       "4            5         0       3   \n",
       "\n",
       "                                                Name     Sex  Age  SibSp  \\\n",
       "0                            Braund, Mr. Owen Harris    male   22      1   \n",
       "1  Cumings, Mrs. John Bradley (Florence Briggs Th...  female   38      1   \n",
       "2                             Heikkinen, Miss. Laina  female   26      0   \n",
       "3       Futrelle, Mrs. Jacques Heath (Lily May Peel)  female   35      1   \n",
       "4                           Allen, Mr. William Henry    male   35      0   \n",
       "\n",
       "   Parch            Ticket     Fare Cabin Embarked  \n",
       "0      0         A/5 21171   7.2500   NaN        S  \n",
       "1      0          PC 17599  71.2833   C85        C  \n",
       "2      0  STON/O2. 3101282   7.9250   NaN        S  \n",
       "3      0            113803  53.1000  C123        S  \n",
       "4      0            373450   8.0500   NaN        S  "
      ]
     },
     "execution_count": 189,
     "metadata": {},
     "output_type": "execute_result"
    }
   ],
   "source": [
    "import pandas as pd\n",
    "\n",
    "data = pd.read_csv('../../datasets/titanic_train.csv')\n",
    "data.head()"
   ]
  },
  {
   "cell_type": "code",
   "execution_count": 190,
   "metadata": {
    "collapsed": false
   },
   "outputs": [
    {
     "data": {
      "text/plain": [
       "PassengerId      0\n",
       "Survived         0\n",
       "Pclass           0\n",
       "Name             0\n",
       "Sex              0\n",
       "Age            177\n",
       "SibSp            0\n",
       "Parch            0\n",
       "Ticket           0\n",
       "Fare             0\n",
       "Cabin          687\n",
       "Embarked         2\n",
       "dtype: int64"
      ]
     },
     "execution_count": 190,
     "metadata": {},
     "output_type": "execute_result"
    }
   ],
   "source": [
    "data.isnull().sum()"
   ]
  },
  {
   "cell_type": "code",
   "execution_count": 191,
   "metadata": {
    "collapsed": false
   },
   "outputs": [
    {
     "name": "stdout",
     "output_type": "stream",
     "text": [
      "PassengerId    0\n",
      "Survived       0\n",
      "Pclass         0\n",
      "Name           0\n",
      "Sex            0\n",
      "Age            0\n",
      "SibSp          0\n",
      "Parch          0\n",
      "Ticket         0\n",
      "Fare           0\n",
      "Embarked       0\n",
      "dtype: int64\n"
     ]
    }
   ],
   "source": [
    "data.Embarked = data.Embarked.fillna(data.Embarked.mode()[0])\n",
    "data.Age = data.Age.fillna(data.Age.mean())\n",
    "if 'Cabin' in data.columns:\n",
    "    data = data.drop(['Cabin'],axis=1)\n",
    "\n",
    "print data.isnull().sum()"
   ]
  },
  {
   "cell_type": "code",
   "execution_count": 192,
   "metadata": {
    "collapsed": false,
    "scrolled": true
   },
   "outputs": [
    {
     "data": {
      "text/plain": [
       "Index([u'PassengerId', u'Survived', u'Pclass', u'Name', u'Sex', u'Age',\n",
       "       u'SibSp', u'Parch', u'Ticket', u'Fare', u'Embarked', u'female', u'male',\n",
       "       u'C', u'Q', u'S'],\n",
       "      dtype='object')"
      ]
     },
     "execution_count": 192,
     "metadata": {},
     "output_type": "execute_result"
    }
   ],
   "source": [
    "data = pd.concat((data, pd.get_dummies(data.Sex)), axis=1)\n",
    "data = pd.concat((data, pd.get_dummies(data.Embarked)), axis=1)\n",
    "data.columns"
   ]
  },
  {
   "cell_type": "code",
   "execution_count": 209,
   "metadata": {
    "collapsed": false
   },
   "outputs": [],
   "source": [
    "import re\n",
    "\n",
    "# A function to get the title from a name.\n",
    "def get_title(name):\n",
    "    # Use a regular expression to search for a title.  Titles always consist of capital and lowercase letters, and end with a period.\n",
    "    title_search = re.search(' ([A-Za-z]+)\\.', name)\n",
    "    # If the title exists, extract and return it.\n",
    "    if title_search:\n",
    "        return title_search.group(1)\n",
    "    return \"\"\n",
    "\n",
    "# Get all the titles and print how often each one occurs.\n",
    "titles = data[\"Name\"].apply(get_title)\n",
    "\n",
    "# Map each title to an integer.  Some titles are very rare, and are compressed into the same codes as other titles.\n",
    "title_mapping = {\"Mr\": 1, \"Miss\": 2, \"Mrs\": 3, \"Master\": 4, \"Dr\": 5, \"Rev\": 6, \"Major\": 7, \"Col\": 7, \"Mlle\": 8, \"Mme\": 8, \"Don\": 9, \"Lady\": 10, \"Countess\": 10, \"Jonkheer\": 10, \"Sir\": 9, \"Capt\": 7, \"Ms\": 2}\n",
    "for k,v in title_mapping.items():\n",
    "    titles[titles == k] = v\n",
    "\n",
    "# Add in the title column.\n",
    "data[\"Title\"] = titles\n",
    "data[\"FamilySize\"] = data[\"SibSp\"] + data[\"Parch\"]"
   ]
  },
  {
   "cell_type": "code",
   "execution_count": 210,
   "metadata": {
    "collapsed": false
   },
   "outputs": [
    {
     "data": {
      "image/png": "[encoded data removed]",
      "text/plain": [
       "<matplotlib.figure.Figure at 0x7fba7fe11110>"
      ]
     },
     "metadata": {},
     "output_type": "display_data"
    }
   ],
   "source": [
    "%matplotlib inline \n",
    "from sklearn.feature_selection import SelectKBest, f_classif\n",
    "\n",
    "predictors = [\"Pclass\", \"male\", \"Age\", \"SibSp\", \"Parch\", \"Fare\", \"Title\", 'C', 'S', 'Q', 'FamilySize']\n",
    "\n",
    "selector = SelectKBest(k=5)\n",
    "selector.fit(data[predictors], data.Survived)\n",
    "scores = -np.log10(selector.pvalues_)\n",
    "plt.bar(range(len(scores)), scores)\n",
    "plt.xticks(range(len(scores)), predictors, rotation=\"vertical\")\n",
    "plt.show()"
   ]
  },
  {
   "cell_type": "markdown",
   "metadata": {},
   "source": [
    "In some ways this plot makes complete sense.  We know that being male meant you were likely to perish, and male has the highest feature importance.  Further, Pclass which we also know to be important is also selected.  What's puzzling is what doesn't get a high feature importance.  I would expect Age to have a much higher importance given the crucial role that it has in boosting your score on Kaggle (remember, women and children first).\n",
    "\n",
    "To understand why this is happening we have to learn more about how `SelectKBest` works.  `SelectKBest` requires that you specify an argument called score_func  That has the following definision:\n",
    "\n",
    "score_func : callable\n",
    "\n",
    "    Function taking two arrays X and y, and returning a pair of arrays (scores, pvalues).\n",
    "\n",
    "In this case we are using the score function `f_classif`.  If we read the documentation for `f_classif` we will learn that it uses an ANOVA (ANalysis Of VAriance) to determine how related each input feature in X is to the outputs, y, that we are trying to predict.  Unfortunately, the way that ANOVAs work in this case is to ask the question: \"Is the mean value for a particular feature different for survivors versus non-survivors?\".  If there is significant evidence that the mean values are different (i.e. not due to chance), then we say the feature is important or good.  Unfortunately, this is not always appropriate.  Next, we'll look at a minimalistic example of why this is problematic."
   ]
  },
  {
   "cell_type": "markdown",
   "metadata": {},
   "source": [
    " #### Minimalistic Example\n",
    " \n",
    " We'll create two arrays, x and y, such that y can be perfectly predicted from x."
   ]
  },
  {
   "cell_type": "code",
   "execution_count": 212,
   "metadata": {
    "collapsed": false
   },
   "outputs": [
    {
     "data": {
      "image/png": "[encoded data removed]",
      "text/plain": [
       "<matplotlib.figure.Figure at 0x7fba8049aad0>"
      ]
     },
     "metadata": {},
     "output_type": "display_data"
    }
   ],
   "source": [
    "%matplotlib inline\n",
    "import numpy as np\n",
    "import matplotlib.pyplot as plt\n",
    "\n",
    "x = np.arange(-2, 2.01, .01)\n",
    "y = abs(x) > 1\n",
    "x = x[:,np.newaxis]\n",
    "plt.plot(x,y,'b.')\n",
    "plt.show()"
   ]
  },
  {
   "cell_type": "code",
   "execution_count": 213,
   "metadata": {
    "collapsed": false
   },
   "outputs": [
    {
     "name": "stdout",
     "output_type": "stream",
     "text": [
      "Accuracy of classifier 1.0\n"
     ]
    }
   ],
   "source": [
    "from sklearn.cross_validation import train_test_split\n",
    "from sklearn.ensemble import RandomForestClassifier\n",
    "\n",
    "x_train, x_test, y_train, y_test = train_test_split(x, y)\n",
    "\n",
    "classif = RandomForestClassifier()\n",
    "classif.fit(x_train, y_train)\n",
    "print \"Accuracy of classifier\", classif.score(x_test, y_test)"
   ]
  },
  {
   "cell_type": "code",
   "execution_count": 216,
   "metadata": {
    "collapsed": false
   },
   "outputs": [
    {
     "name": "stdout",
     "output_type": "stream",
     "text": [
      "Feature importance [ 0.07100401]\n"
     ]
    }
   ],
   "source": [
    "selector = SelectKBest(k=1)\n",
    "selector.fit(x, y)\n",
    "print \"Feature importance\", -np.log(selector.pvalues_)"
   ]
  },
  {
   "cell_type": "markdown",
   "metadata": {},
   "source": [
    "What has gone wrong here is that the ANOVA has declared x to be unimportant since the mean value for x when y = 1 is the basically the same as the mean value for x when y = 0."
   ]
  },
  {
   "cell_type": "markdown",
   "metadata": {},
   "source": [
    "#### Overestimating Performance\n",
    "\n",
    "There is a second problem with the DataQuest code.  The issue is with the following piece of code.\n",
    "\n",
    "```python\n",
    "selector = SelectKBest(k=5)\n",
    "selector.fit(data[predictors], data.Survived)\n",
    "scores = -np.log10(selector.pvalues_)```\n",
    "\n",
    "The problem is that the best features are being estimated using *all* of the training data.  Therefore, if we then use cross validation to estimate performance we will be implicitly using some knowledge from the test set in our cross validation loop since we used the features that were best over all the data.\n",
    "\n",
    "First, let's run an experiment to see the effect that the DataQuest tutorial's method has."
   ]
  },
  {
   "cell_type": "code",
   "execution_count": 240,
   "metadata": {
    "collapsed": false,
    "scrolled": true
   },
   "outputs": [
    {
     "data": {
      "image/png": "[encoded data removed]",
      "text/plain": [
       "<matplotlib.figure.Figure at 0x7fba803fa790>"
      ]
     },
     "metadata": {},
     "output_type": "display_data"
    }
   ],
   "source": [
    "from sklearn import cross_validation\n",
    "from sklearn.linear_model import LogisticRegression\n",
    "\n",
    "def do_trial(alg, X1, X2, y):\n",
    "    # change Shuffle to False to see how this affects the conclusions\n",
    "    cv = cross_validation.StratifiedKFold(y, 3, shuffle=True)\n",
    "    score1 = cross_validation.cross_val_score(alg, X1, y, cv=cv)\n",
    "    score2 = cross_validation.cross_val_score(alg, X2, y, cv=cv)\n",
    "    return score1.mean(), score2.mean()\n",
    "\n",
    "predictors = ['Pclass',\n",
    "              'male',\n",
    "              'Age',\n",
    "              'SibSp',\n",
    "              'Parch',\n",
    "              'Fare',\n",
    "              'Title',\n",
    "              'C',\n",
    "              'S',\n",
    "              'Q',\n",
    "              'FamilySize']\n",
    "\n",
    "X = np.asarray(data[predictors])\n",
    "y = np.asarray(data.Survived)\n",
    "\n",
    "# Perform feature selection\n",
    "selector = SelectKBest(f_classif, k=5)\n",
    "selector.fit(X, y)\n",
    "\n",
    "# Get the raw p-values for each feature, and transform from p-values into scores\n",
    "scores = -np.log10(selector.pvalues_)\n",
    "best_feature_indices = sorted(range(len(scores)), reverse=True, key=lambda i: scores[i])\n",
    "\n",
    "alg = RandomForestClassifier(n_estimators=150, min_samples_split=8, min_samples_leaf=4)\n",
    "#alg = LogisticRegression()\n",
    "\n",
    "n_trials = 10\n",
    "all_features_performances = np.zeros(n_trials,)\n",
    "best_features_performances = np.zeros(n_trials,)\n",
    "\n",
    "for i in range(n_trials):\n",
    "    (all_features_performances[i], best_features_performances[i]) = \\\n",
    "            do_trial(alg, X, X[:, best_feature_indices[0:5]], y)\n",
    "\n",
    "plt.hist(best_features_performances - all_features_performances)\n",
    "plt.ylabel('number')\n",
    "plt.xlabel('performance gain from feature selection')\n",
    "plt.show()"
   ]
  },
  {
   "cell_type": "markdown",
   "metadata": {},
   "source": [
    "Next, we'll add a bunch of random features to X.  These features will be determined completely at random and should have no real linkage to the variable we are trying to predict."
   ]
  },
  {
   "cell_type": "code",
   "execution_count": 244,
   "metadata": {
    "collapsed": false
   },
   "outputs": [
    {
     "name": "stdout",
     "output_type": "stream",
     "text": [
      "Feature selection performance 0.844220, original features performance 0.806397\n"
     ]
    },
    {
     "data": {
      "image/png": "[encoded data removed]",
      "text/plain": [
       "<matplotlib.figure.Figure at 0x7fba7fc78810>"
      ]
     },
     "metadata": {},
     "output_type": "display_data"
    }
   ],
   "source": [
    "X = np.asarray(data[predictors])\n",
    "X = np.hstack((X, np.random.randn(X.shape[0], 10000)))\n",
    "\n",
    "# Perform feature selection\n",
    "selector = SelectKBest(f_classif, k=5)\n",
    "selector.fit(X, y)\n",
    "\n",
    "# Get the raw p-values for each feature, and transform from p-values into scores\n",
    "scores = -np.log10(selector.pvalues_)\n",
    "best_feature_indices = sorted(range(len(scores)), reverse=True, key=lambda i: scores[i])\n",
    "\n",
    "#alg = RandomForestClassifier(n_estimators=150, min_samples_split=8, min_samples_leaf=4)\n",
    "alg = LogisticRegression()\n",
    "\n",
    "n_trials = 10\n",
    "all_features_performances = np.zeros(n_trials,)\n",
    "best_features_performances = np.zeros(n_trials,)\n",
    "\n",
    "for i in range(n_trials):\n",
    "    (all_features_performances[i], best_features_performances[i]) = \\\n",
    "            do_trial(alg, X[:,0:len(predictors)], X[:, best_feature_indices[0:60]], y)\n",
    "\n",
    "print \"Feature selection performance %f, original features performance %f\" \\\n",
    "            % (best_features_performances.mean(), all_features_performances.mean())\n",
    "plt.hist(best_features_performances - all_features_performances)\n",
    "plt.show()"
   ]
  },
  {
   "cell_type": "markdown",
   "metadata": {},
   "source": [
    "### Monotonic Transformations\n",
    "\n",
    "Several people tried transforming their data using various monotonic functions (e.g. the log or the square of a number, provided it's positive).  While these transformations can make a difference for a model like logistic regression, they will not make a difference for something like a decision tree.\n",
    "\n",
    "This is a specific example of a broader need to consider feature engineering within the context of a particular model that you are investigating."
   ]
  },
  {
   "cell_type": "markdown",
   "metadata": {},
   "source": [
    "### Best Practices for Documenting Your Models\n",
    "\n",
    "Based on what I saw in the model iteration 2 notebook's, here are a few things that I really liked.\n",
    "\n",
    "#### List Your References up Front\n",
    "\n",
    "When folks put a list of all the references they used up front, it really helped frame my engagement with the notebook.  I recommend doing this in a front matter section after your notebook abstract, but before you dive into your paticular models.\n",
    "\n",
    "#### Cite your sources throughout\n",
    "\n",
    "Whenever you try something out that was motivated by another source, put in a citation.  You could either do this by the name of the source, or you could do it using some sort of reference numbering system (similar to a bibliography).  Maybe there is even a way to automate this process in Jupyter (something similar to bibtex)?\n",
    "\n",
    "#### Situate Your Current Investigations\n",
    "\n",
    "Several people explicitly referenced results from their earlier notebooks as a way to motivate the models they were trying in iteration 2.  I found this to be very effective.  The exact format of these references varied significantly (e.g. reproducing a visualization, talking about a prior result).  I think any method is fine, but I would make sure that it is specific enough that you can unambiguously find the analysis that you are referencing."
   ]
  },
  {
   "cell_type": "code",
   "execution_count": null,
   "metadata": {
    "collapsed": true
   },
   "outputs": [],
   "source": []
  }
 ],
 "metadata": {
  "kernelspec": {
   "display_name": "Python 2",
   "language": "python",
   "name": "python2"
  },
  "language_info": {
   "codemirror_mode": {
    "name": "ipython",
    "version": 2
   },
   "file_extension": ".py",
   "mimetype": "text/x-python",
   "name": "python",
   "nbconvert_exporter": "python",
   "pygments_lexer": "ipython2",
   "version": "2.7.11"
  }
 },
 "nbformat": 4,
 "nbformat_minor": 0
}
